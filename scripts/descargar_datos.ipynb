{
 "cells": [
  {
   "cell_type": "code",
   "execution_count": null,
   "metadata": {},
   "outputs": [],
   "source": [
    "import numpy as np\n",
    "from functools import reduce\n",
    "import pandas as pd"
   ]
  },
  {
   "cell_type": "code",
   "execution_count": 1,
   "metadata": {},
   "outputs": [],
   "source": [
    "from esios import ESIOSClient\n",
    "client = ESIOSClient('59eafc8896fb679e47acd230a34e72cfec2155dbca4d639e08069e24ff6f9b5b')\n",
    "endpoint = client.endpoint(name='indicators')"
   ]
  },
  {
   "cell_type": "code",
   "execution_count": 2,
   "metadata": {},
   "outputs": [],
   "source": [
    "indicators = endpoint.list()"
   ]
  },
  {
   "cell_type": "code",
   "execution_count": 3,
   "metadata": {},
   "outputs": [],
   "source": [
    "indicators_terciaria = indicators[indicators.description.str.contains('erciaria')]"
   ]
  },
  {
   "cell_type": "code",
   "execution_count": 51,
   "metadata": {},
   "outputs": [],
   "source": [
    "indicators_terciaria.to_csv(\"../data/indicators_terciaria.csv\")"
   ]
  },
  {
   "cell_type": "code",
   "execution_count": 5,
   "metadata": {},
   "outputs": [
    {
     "name": "stdout",
     "output_type": "stream",
     "text": [
      "535\n",
      "536\n",
      "539\n",
      "540\n",
      "545\n",
      "666\n",
      "667\n",
      "672\n",
      "673\n",
      "674\n",
      "675\n",
      "676\n",
      "677\n",
      "688\n",
      "689\n",
      "690\n",
      "691\n",
      "692\n",
      "693\n",
      "694\n",
      "695\n",
      "696\n",
      "697\n",
      "714\n",
      "715\n",
      "716\n",
      "717\n",
      "732\n",
      "749\n",
      "762\n",
      "767\n",
      "768\n",
      "1037\n",
      "1138\n",
      "1139\n",
      "1140\n",
      "1141\n",
      "1142\n",
      "1143\n",
      "1144\n",
      "1145\n",
      "1146\n",
      "1147\n",
      "1298\n",
      "1299\n",
      "1300\n",
      "1301\n",
      "1302\n",
      "1303\n",
      "1304\n",
      "1305\n",
      "1306\n",
      "1307\n",
      "1308\n",
      "1309\n",
      "1310\n",
      "1311\n",
      "1312\n",
      "1313\n",
      "1314\n",
      "1315\n",
      "1316\n",
      "1317\n",
      "1318\n",
      "1319\n",
      "1320\n",
      "1321\n",
      "1322\n",
      "1323\n",
      "1324\n",
      "1325\n",
      "1326\n",
      "1327\n",
      "1328\n",
      "1329\n",
      "1330\n",
      "1331\n",
      "1332\n",
      "1333\n",
      "1782\n",
      "1783\n",
      "1784\n",
      "1787\n",
      "1788\n",
      "1789\n",
      "1824\n",
      "1825\n",
      "1826\n",
      "1827\n",
      "1828\n",
      "1829\n",
      "1830\n",
      "1831\n",
      "1870\n",
      "1883\n",
      "1884\n",
      "1885\n",
      "1886\n",
      "1891\n",
      "1892\n",
      "1893\n",
      "1894\n",
      "10052\n",
      "10054\n",
      "10055\n",
      "10057\n",
      "10250\n",
      "10251\n",
      "10323\n",
      "10324\n",
      "10325\n",
      "10360\n",
      "10361\n",
      "10383\n",
      "10384\n",
      "10385\n",
      "10386\n",
      "10387\n",
      "10394\n",
      "10395\n",
      "10396\n",
      "10397\n",
      "10398\n",
      "10399\n",
      "10400\n",
      "10401\n"
     ]
    }
   ],
   "source": [
    "dfs = []\n",
    "start = '2023-01-01'\n",
    "end = '2024-09-09'\n",
    "for id in list(indicators_terciaria.id):\n",
    "    print(id)\n",
    "    df = endpoint.select(id).historical(start=start, end=end)\n",
    "    dfs.append(df)"
   ]
  },
  {
   "cell_type": "code",
   "execution_count": 15,
   "metadata": {},
   "outputs": [
    {
     "data": {
      "text/html": [
       "<div>\n",
       "<style scoped>\n",
       "    .dataframe tbody tr th:only-of-type {\n",
       "        vertical-align: middle;\n",
       "    }\n",
       "\n",
       "    .dataframe tbody tr th {\n",
       "        vertical-align: top;\n",
       "    }\n",
       "\n",
       "    .dataframe thead th {\n",
       "        text-align: right;\n",
       "    }\n",
       "</style>\n",
       "<table border=\"1\" class=\"dataframe\">\n",
       "  <thead>\n",
       "    <tr style=\"text-align: right;\">\n",
       "      <th></th>\n",
       "      <th>535</th>\n",
       "      <th>geo_id</th>\n",
       "      <th>geo_name</th>\n",
       "    </tr>\n",
       "    <tr>\n",
       "      <th>datetime</th>\n",
       "      <th></th>\n",
       "      <th></th>\n",
       "      <th></th>\n",
       "    </tr>\n",
       "  </thead>\n",
       "  <tbody>\n",
       "    <tr>\n",
       "      <th>2023-01-01 00:00:00+01:00</th>\n",
       "      <td>0.00</td>\n",
       "      <td>8741</td>\n",
       "      <td>Península</td>\n",
       "    </tr>\n",
       "    <tr>\n",
       "      <th>2023-01-01 00:15:00+01:00</th>\n",
       "      <td>0.00</td>\n",
       "      <td>8741</td>\n",
       "      <td>Península</td>\n",
       "    </tr>\n",
       "    <tr>\n",
       "      <th>2023-01-01 00:30:00+01:00</th>\n",
       "      <td>0.00</td>\n",
       "      <td>8741</td>\n",
       "      <td>Península</td>\n",
       "    </tr>\n",
       "    <tr>\n",
       "      <th>2023-01-01 00:45:00+01:00</th>\n",
       "      <td>0.00</td>\n",
       "      <td>8741</td>\n",
       "      <td>Península</td>\n",
       "    </tr>\n",
       "    <tr>\n",
       "      <th>2023-01-01 01:00:00+01:00</th>\n",
       "      <td>0.00</td>\n",
       "      <td>8741</td>\n",
       "      <td>Península</td>\n",
       "    </tr>\n",
       "    <tr>\n",
       "      <th>...</th>\n",
       "      <td>...</td>\n",
       "      <td>...</td>\n",
       "      <td>...</td>\n",
       "    </tr>\n",
       "    <tr>\n",
       "      <th>2024-09-09 22:45:00+02:00</th>\n",
       "      <td>0.00</td>\n",
       "      <td>8741</td>\n",
       "      <td>Península</td>\n",
       "    </tr>\n",
       "    <tr>\n",
       "      <th>2024-09-09 23:00:00+02:00</th>\n",
       "      <td>12.75</td>\n",
       "      <td>8741</td>\n",
       "      <td>Península</td>\n",
       "    </tr>\n",
       "    <tr>\n",
       "      <th>2024-09-09 23:15:00+02:00</th>\n",
       "      <td>12.75</td>\n",
       "      <td>8741</td>\n",
       "      <td>Península</td>\n",
       "    </tr>\n",
       "    <tr>\n",
       "      <th>2024-09-09 23:30:00+02:00</th>\n",
       "      <td>12.75</td>\n",
       "      <td>8741</td>\n",
       "      <td>Península</td>\n",
       "    </tr>\n",
       "    <tr>\n",
       "      <th>2024-09-09 23:45:00+02:00</th>\n",
       "      <td>12.75</td>\n",
       "      <td>8741</td>\n",
       "      <td>Península</td>\n",
       "    </tr>\n",
       "  </tbody>\n",
       "</table>\n",
       "<p>41664 rows × 3 columns</p>\n",
       "</div>"
      ],
      "text/plain": [
       "                             535  geo_id   geo_name\n",
       "datetime                                           \n",
       "2023-01-01 00:00:00+01:00   0.00    8741  Península\n",
       "2023-01-01 00:15:00+01:00   0.00    8741  Península\n",
       "2023-01-01 00:30:00+01:00   0.00    8741  Península\n",
       "2023-01-01 00:45:00+01:00   0.00    8741  Península\n",
       "2023-01-01 01:00:00+01:00   0.00    8741  Península\n",
       "...                          ...     ...        ...\n",
       "2024-09-09 22:45:00+02:00   0.00    8741  Península\n",
       "2024-09-09 23:00:00+02:00  12.75    8741  Península\n",
       "2024-09-09 23:15:00+02:00  12.75    8741  Península\n",
       "2024-09-09 23:30:00+02:00  12.75    8741  Península\n",
       "2024-09-09 23:45:00+02:00  12.75    8741  Península\n",
       "\n",
       "[41664 rows x 3 columns]"
      ]
     },
     "execution_count": 15,
     "metadata": {},
     "output_type": "execute_result"
    }
   ],
   "source": [
    "dfs[0]"
   ]
  },
  {
   "cell_type": "code",
   "execution_count": 22,
   "metadata": {},
   "outputs": [],
   "source": [
    "import copy\n",
    "dfs_aux = copy.copy(dfs)"
   ]
  },
  {
   "cell_type": "code",
   "execution_count": 32,
   "metadata": {},
   "outputs": [
    {
     "data": {
      "text/plain": [
       "'535'"
      ]
     },
     "execution_count": 32,
     "metadata": {},
     "output_type": "execute_result"
    }
   ],
   "source": [
    "dfs_aux[0].columns[0]"
   ]
  },
  {
   "cell_type": "code",
   "execution_count": 36,
   "metadata": {},
   "outputs": [
    {
     "name": "stdout",
     "output_type": "stream",
     "text": [
      "DataFrame is empty, skipping...\n",
      "DataFrame is empty, skipping...\n",
      "DataFrame is empty, skipping...\n",
      "DataFrame is empty, skipping...\n",
      "DataFrame is empty, skipping...\n",
      "DataFrame is empty, skipping...\n",
      "DataFrame is empty, skipping...\n",
      "DataFrame is empty, skipping...\n",
      "DataFrame is empty, skipping...\n",
      "DataFrame is empty, skipping...\n",
      "DataFrame is empty, skipping...\n",
      "DataFrame is empty, skipping...\n",
      "DataFrame is empty, skipping...\n",
      "DataFrame is empty, skipping...\n",
      "DataFrame is empty, skipping...\n",
      "DataFrame is empty, skipping...\n",
      "DataFrame is empty, skipping...\n",
      "DataFrame is empty, skipping...\n",
      "DataFrame is empty, skipping...\n",
      "DataFrame is empty, skipping...\n",
      "DataFrame is empty, skipping...\n",
      "DataFrame is empty, skipping...\n",
      "DataFrame is empty, skipping...\n",
      "DataFrame is empty, skipping...\n",
      "DataFrame is empty, skipping...\n",
      "DataFrame is empty, skipping...\n",
      "DataFrame is empty, skipping...\n",
      "DataFrame is empty, skipping...\n",
      "DataFrame is empty, skipping...\n",
      "DataFrame is empty, skipping...\n",
      "DataFrame is empty, skipping...\n",
      "DataFrame is empty, skipping...\n",
      "DataFrame is empty, skipping...\n",
      "DataFrame is empty, skipping...\n",
      "DataFrame is empty, skipping...\n",
      "DataFrame is empty, skipping...\n",
      "DataFrame is empty, skipping...\n",
      "DataFrame is empty, skipping...\n",
      "DataFrame is empty, skipping...\n",
      "DataFrame is empty, skipping...\n",
      "DataFrame is empty, skipping...\n",
      "DataFrame is empty, skipping...\n",
      "DataFrame is empty, skipping...\n",
      "DataFrame is empty, skipping...\n",
      "DataFrame is empty, skipping...\n",
      "DataFrame is empty, skipping...\n",
      "DataFrame is empty, skipping...\n",
      "DataFrame is empty, skipping...\n",
      "DataFrame is empty, skipping...\n",
      "DataFrame is empty, skipping...\n",
      "DataFrame is empty, skipping...\n",
      "DataFrame is empty, skipping...\n",
      "DataFrame is empty, skipping...\n",
      "DataFrame is empty, skipping...\n",
      "DataFrame is empty, skipping...\n",
      "DataFrame is empty, skipping...\n",
      "DataFrame is empty, skipping...\n",
      "DataFrame is empty, skipping...\n",
      "DataFrame is empty, skipping...\n",
      "DataFrame is empty, skipping...\n",
      "DataFrame is empty, skipping...\n",
      "DataFrame is empty, skipping...\n",
      "DataFrame is empty, skipping...\n",
      "DataFrame is empty, skipping...\n",
      "DataFrame is empty, skipping...\n",
      "DataFrame is empty, skipping...\n",
      "DataFrame is empty, skipping...\n",
      "DataFrame is empty, skipping...\n"
     ]
    }
   ],
   "source": [
    "for df in dfs_aux:\n",
    "    if df.columns.size > 0:  # Check if the DataFrame has at least one column\n",
    "        df.to_csv(f'../data/all_terciaria_df/{df.columns[0]}.csv')\n",
    "    else:\n",
    "        print(\"DataFrame is empty, skipping...\")"
   ]
  },
  {
   "cell_type": "code",
   "execution_count": 38,
   "metadata": {},
   "outputs": [],
   "source": [
    "required_columns = ['geo_id', 'geo_name']\n",
    "\n",
    "for df in dfs_aux:\n",
    "    if not df.empty:  # Check if the DataFrame is not empty\n",
    "        if not all(col in df.columns for col in required_columns):  # Check if all required columns are present\n",
    "            print(\"DataFrame missing required columns:\")\n",
    "            print(df)\n",
    "# todos tienen las columnas requeridas\n"
   ]
  },
  {
   "cell_type": "code",
   "execution_count": 39,
   "metadata": {},
   "outputs": [],
   "source": [
    "# Ensure each DataFrame has 'geo_id' and 'geo_name' columns, and 'datetime' is the index name\n",
    "dfs_non_empty = [df for df in dfs if not df.empty and 'geo_id' in df.columns and 'geo_name' in df.columns]\n",
    "\n",
    "# Now apply your original merge logic\n",
    "df_base = reduce(lambda x, y: pd.merge(x.reset_index(), \n",
    "                                       y.reset_index(), \n",
    "                                       on=['datetime', 'geo_id', 'geo_name'], \n",
    "                                       how='outer').set_index('datetime'), \n",
    "                 dfs_non_empty)\n"
   ]
  },
  {
   "cell_type": "code",
   "execution_count": 40,
   "metadata": {},
   "outputs": [],
   "source": [
    "df_base.to_csv('../data/merged_dfs.csv')\n"
   ]
  },
  {
   "cell_type": "code",
   "execution_count": 46,
   "metadata": {},
   "outputs": [
    {
     "data": {
      "text/plain": [
       "geo_id\n",
       "8741    177972\n",
       "3        56392\n",
       "2        56020\n",
       "1        55624\n",
       "8825     53352\n",
       "Name: count, dtype: int64"
      ]
     },
     "execution_count": 47,
     "metadata": {},
     "output_type": "execute_result"
    }
   ],
   "source": [
    "df_base.geo_id.value_counts()"
   ]
  },
  {
   "cell_type": "code",
   "execution_count": 69,
   "metadata": {},
   "outputs": [],
   "source": [
    "df_base = pd.read_csv(\"../data/merged_dfs.csv\")\n",
    "df = df_base[df_base.geo_name.str.contains(\"Pen\")]"
   ]
  },
  {
   "cell_type": "code",
   "execution_count": 85,
   "metadata": {},
   "outputs": [
    {
     "name": "stderr",
     "output_type": "stream",
     "text": [
      "/tmp/ipykernel_6323/1697135093.py:1: SettingWithCopyWarning: \n",
      "A value is trying to be set on a copy of a slice from a DataFrame.\n",
      "Try using .loc[row_indexer,col_indexer] = value instead\n",
      "\n",
      "See the caveats in the documentation: https://pandas.pydata.org/pandas-docs/stable/user_guide/indexing.html#returning-a-view-versus-a-copy\n",
      "  df['datetime'] = pd.to_datetime(df['datetime'], utc=True)\n"
     ]
    }
   ],
   "source": [
    "df['datetime'] = pd.to_datetime(df['datetime'], utc=True)"
   ]
  },
  {
   "cell_type": "code",
   "execution_count": 87,
   "metadata": {},
   "outputs": [],
   "source": [
    "def filter_round_hours(df, datetime_col):\n",
    "    # Extract minute and second from the datetime column\n",
    "    is_start_of_hour = (df[datetime_col].dt.minute == 0) & (df[datetime_col].dt.second == 0)\n",
    "    return df[is_start_of_hour]\n",
    "\n",
    "df_00 = filter_round_hours(df,\"datetime\")"
   ]
  },
  {
   "cell_type": "code",
   "execution_count": 89,
   "metadata": {},
   "outputs": [
    {
     "name": "stderr",
     "output_type": "stream",
     "text": [
      "/tmp/ipykernel_6323/2635924041.py:1: FutureWarning: Downcasting object dtype arrays on .fillna, .ffill, .bfill is deprecated and will change in a future version. Call result.infer_objects(copy=False) instead. To opt-in to the future behavior, set `pd.set_option('future.no_silent_downcasting', True)`\n",
      "  df_00.fillna(0)\n"
     ]
    },
    {
     "data": {
      "text/html": [
       "<div>\n",
       "<style scoped>\n",
       "    .dataframe tbody tr th:only-of-type {\n",
       "        vertical-align: middle;\n",
       "    }\n",
       "\n",
       "    .dataframe tbody tr th {\n",
       "        vertical-align: top;\n",
       "    }\n",
       "\n",
       "    .dataframe thead th {\n",
       "        text-align: right;\n",
       "    }\n",
       "</style>\n",
       "<table border=\"1\" class=\"dataframe\">\n",
       "  <thead>\n",
       "    <tr style=\"text-align: right;\">\n",
       "      <th></th>\n",
       "      <th>datetime</th>\n",
       "      <th>535</th>\n",
       "      <th>geo_id</th>\n",
       "      <th>geo_name</th>\n",
       "      <th>536</th>\n",
       "      <th>539</th>\n",
       "      <th>540</th>\n",
       "      <th>545</th>\n",
       "      <th>666</th>\n",
       "      <th>667</th>\n",
       "      <th>...</th>\n",
       "      <th>10386</th>\n",
       "      <th>10387</th>\n",
       "      <th>10394</th>\n",
       "      <th>10395</th>\n",
       "      <th>10396</th>\n",
       "      <th>10397</th>\n",
       "      <th>10398</th>\n",
       "      <th>10399</th>\n",
       "      <th>10400</th>\n",
       "      <th>10401</th>\n",
       "    </tr>\n",
       "  </thead>\n",
       "  <tbody>\n",
       "    <tr>\n",
       "      <th>3</th>\n",
       "      <td>2022-12-31 23:00:00+00:00</td>\n",
       "      <td>0.00</td>\n",
       "      <td>8741</td>\n",
       "      <td>Península</td>\n",
       "      <td>0.00</td>\n",
       "      <td>0.0</td>\n",
       "      <td>25.00</td>\n",
       "      <td>20302.0</td>\n",
       "      <td>125.00</td>\n",
       "      <td>0.00</td>\n",
       "      <td>...</td>\n",
       "      <td>0.00</td>\n",
       "      <td>0.000</td>\n",
       "      <td>0.000</td>\n",
       "      <td>0.0</td>\n",
       "      <td>0.0</td>\n",
       "      <td>0.0</td>\n",
       "      <td>0.00</td>\n",
       "      <td>0.000</td>\n",
       "      <td>0.0</td>\n",
       "      <td>0.0</td>\n",
       "    </tr>\n",
       "    <tr>\n",
       "      <th>31</th>\n",
       "      <td>2023-01-01 00:00:00+00:00</td>\n",
       "      <td>0.00</td>\n",
       "      <td>8741</td>\n",
       "      <td>Península</td>\n",
       "      <td>17.50</td>\n",
       "      <td>0.0</td>\n",
       "      <td>16.75</td>\n",
       "      <td>19530.0</td>\n",
       "      <td>0.00</td>\n",
       "      <td>300.00</td>\n",
       "      <td>...</td>\n",
       "      <td>0.00</td>\n",
       "      <td>-1540.000</td>\n",
       "      <td>140.000</td>\n",
       "      <td>0.0</td>\n",
       "      <td>0.0</td>\n",
       "      <td>0.0</td>\n",
       "      <td>0.00</td>\n",
       "      <td>-1540.000</td>\n",
       "      <td>0.0</td>\n",
       "      <td>0.0</td>\n",
       "    </tr>\n",
       "    <tr>\n",
       "      <th>59</th>\n",
       "      <td>2023-01-01 01:00:00+00:00</td>\n",
       "      <td>0.00</td>\n",
       "      <td>8741</td>\n",
       "      <td>Península</td>\n",
       "      <td>24.00</td>\n",
       "      <td>20.0</td>\n",
       "      <td>0.00</td>\n",
       "      <td>18579.0</td>\n",
       "      <td>0.00</td>\n",
       "      <td>0.00</td>\n",
       "      <td>...</td>\n",
       "      <td>0.00</td>\n",
       "      <td>-660.000</td>\n",
       "      <td>60.000</td>\n",
       "      <td>0.0</td>\n",
       "      <td>0.0</td>\n",
       "      <td>0.0</td>\n",
       "      <td>0.00</td>\n",
       "      <td>-660.000</td>\n",
       "      <td>0.0</td>\n",
       "      <td>0.0</td>\n",
       "    </tr>\n",
       "    <tr>\n",
       "      <th>87</th>\n",
       "      <td>2023-01-01 02:00:00+00:00</td>\n",
       "      <td>0.00</td>\n",
       "      <td>8741</td>\n",
       "      <td>Península</td>\n",
       "      <td>42.75</td>\n",
       "      <td>0.0</td>\n",
       "      <td>67.75</td>\n",
       "      <td>17274.0</td>\n",
       "      <td>0.00</td>\n",
       "      <td>674.00</td>\n",
       "      <td>...</td>\n",
       "      <td>0.00</td>\n",
       "      <td>0.000</td>\n",
       "      <td>0.000</td>\n",
       "      <td>0.0</td>\n",
       "      <td>0.0</td>\n",
       "      <td>0.0</td>\n",
       "      <td>0.00</td>\n",
       "      <td>0.000</td>\n",
       "      <td>0.0</td>\n",
       "      <td>0.0</td>\n",
       "    </tr>\n",
       "    <tr>\n",
       "      <th>115</th>\n",
       "      <td>2023-01-01 03:00:00+00:00</td>\n",
       "      <td>0.00</td>\n",
       "      <td>8741</td>\n",
       "      <td>Península</td>\n",
       "      <td>26.50</td>\n",
       "      <td>0.0</td>\n",
       "      <td>0.00</td>\n",
       "      <td>16760.0</td>\n",
       "      <td>0.00</td>\n",
       "      <td>848.00</td>\n",
       "      <td>...</td>\n",
       "      <td>0.00</td>\n",
       "      <td>-2848.505</td>\n",
       "      <td>142.425</td>\n",
       "      <td>0.0</td>\n",
       "      <td>0.0</td>\n",
       "      <td>0.0</td>\n",
       "      <td>0.00</td>\n",
       "      <td>-2848.505</td>\n",
       "      <td>0.0</td>\n",
       "      <td>0.0</td>\n",
       "    </tr>\n",
       "    <tr>\n",
       "      <th>...</th>\n",
       "      <td>...</td>\n",
       "      <td>...</td>\n",
       "      <td>...</td>\n",
       "      <td>...</td>\n",
       "      <td>...</td>\n",
       "      <td>...</td>\n",
       "      <td>...</td>\n",
       "      <td>...</td>\n",
       "      <td>...</td>\n",
       "      <td>...</td>\n",
       "      <td>...</td>\n",
       "      <td>...</td>\n",
       "      <td>...</td>\n",
       "      <td>...</td>\n",
       "      <td>...</td>\n",
       "      <td>...</td>\n",
       "      <td>...</td>\n",
       "      <td>...</td>\n",
       "      <td>...</td>\n",
       "      <td>...</td>\n",
       "      <td>...</td>\n",
       "    </tr>\n",
       "    <tr>\n",
       "      <th>399227</th>\n",
       "      <td>2024-09-09 17:00:00+00:00</td>\n",
       "      <td>0.00</td>\n",
       "      <td>8741</td>\n",
       "      <td>Península</td>\n",
       "      <td>49.25</td>\n",
       "      <td>0.0</td>\n",
       "      <td>53.50</td>\n",
       "      <td>28905.0</td>\n",
       "      <td>19.00</td>\n",
       "      <td>1454.75</td>\n",
       "      <td>...</td>\n",
       "      <td>1102.28</td>\n",
       "      <td>0.000</td>\n",
       "      <td>0.000</td>\n",
       "      <td>22.5</td>\n",
       "      <td>0.0</td>\n",
       "      <td>0.0</td>\n",
       "      <td>1102.28</td>\n",
       "      <td>0.000</td>\n",
       "      <td>0.0</td>\n",
       "      <td>0.0</td>\n",
       "    </tr>\n",
       "    <tr>\n",
       "      <th>399255</th>\n",
       "      <td>2024-09-09 18:00:00+00:00</td>\n",
       "      <td>0.00</td>\n",
       "      <td>8741</td>\n",
       "      <td>Península</td>\n",
       "      <td>0.00</td>\n",
       "      <td>0.0</td>\n",
       "      <td>0.00</td>\n",
       "      <td>30486.0</td>\n",
       "      <td>100.00</td>\n",
       "      <td>100.00</td>\n",
       "      <td>...</td>\n",
       "      <td>0.00</td>\n",
       "      <td>11212.500</td>\n",
       "      <td>162.500</td>\n",
       "      <td>0.0</td>\n",
       "      <td>0.0</td>\n",
       "      <td>0.0</td>\n",
       "      <td>0.00</td>\n",
       "      <td>11212.500</td>\n",
       "      <td>0.0</td>\n",
       "      <td>0.0</td>\n",
       "    </tr>\n",
       "    <tr>\n",
       "      <th>399283</th>\n",
       "      <td>2024-09-09 19:00:00+00:00</td>\n",
       "      <td>0.00</td>\n",
       "      <td>8741</td>\n",
       "      <td>Península</td>\n",
       "      <td>0.00</td>\n",
       "      <td>0.0</td>\n",
       "      <td>0.00</td>\n",
       "      <td>31445.0</td>\n",
       "      <td>0.00</td>\n",
       "      <td>225.00</td>\n",
       "      <td>...</td>\n",
       "      <td>0.00</td>\n",
       "      <td>0.000</td>\n",
       "      <td>0.000</td>\n",
       "      <td>0.0</td>\n",
       "      <td>0.0</td>\n",
       "      <td>0.0</td>\n",
       "      <td>0.00</td>\n",
       "      <td>0.000</td>\n",
       "      <td>0.0</td>\n",
       "      <td>0.0</td>\n",
       "    </tr>\n",
       "    <tr>\n",
       "      <th>399311</th>\n",
       "      <td>2024-09-09 20:00:00+00:00</td>\n",
       "      <td>0.00</td>\n",
       "      <td>8741</td>\n",
       "      <td>Península</td>\n",
       "      <td>32.50</td>\n",
       "      <td>25.0</td>\n",
       "      <td>0.00</td>\n",
       "      <td>29432.0</td>\n",
       "      <td>131.25</td>\n",
       "      <td>684.25</td>\n",
       "      <td>...</td>\n",
       "      <td>12023.25</td>\n",
       "      <td>0.000</td>\n",
       "      <td>0.000</td>\n",
       "      <td>102.5</td>\n",
       "      <td>0.0</td>\n",
       "      <td>0.0</td>\n",
       "      <td>12023.25</td>\n",
       "      <td>0.000</td>\n",
       "      <td>0.0</td>\n",
       "      <td>0.0</td>\n",
       "    </tr>\n",
       "    <tr>\n",
       "      <th>399339</th>\n",
       "      <td>2024-09-09 21:00:00+00:00</td>\n",
       "      <td>12.75</td>\n",
       "      <td>8741</td>\n",
       "      <td>Península</td>\n",
       "      <td>0.00</td>\n",
       "      <td>25.0</td>\n",
       "      <td>0.00</td>\n",
       "      <td>26991.0</td>\n",
       "      <td>275.00</td>\n",
       "      <td>0.00</td>\n",
       "      <td>...</td>\n",
       "      <td>24094.20</td>\n",
       "      <td>0.000</td>\n",
       "      <td>0.000</td>\n",
       "      <td>195.0</td>\n",
       "      <td>0.0</td>\n",
       "      <td>0.0</td>\n",
       "      <td>24094.20</td>\n",
       "      <td>0.000</td>\n",
       "      <td>0.0</td>\n",
       "      <td>0.0</td>\n",
       "    </tr>\n",
       "  </tbody>\n",
       "</table>\n",
       "<p>14831 rows × 61 columns</p>\n",
       "</div>"
      ],
      "text/plain": [
       "                        datetime    535  geo_id   geo_name    536   539  \\\n",
       "3      2022-12-31 23:00:00+00:00   0.00    8741  Península   0.00   0.0   \n",
       "31     2023-01-01 00:00:00+00:00   0.00    8741  Península  17.50   0.0   \n",
       "59     2023-01-01 01:00:00+00:00   0.00    8741  Península  24.00  20.0   \n",
       "87     2023-01-01 02:00:00+00:00   0.00    8741  Península  42.75   0.0   \n",
       "115    2023-01-01 03:00:00+00:00   0.00    8741  Península  26.50   0.0   \n",
       "...                          ...    ...     ...        ...    ...   ...   \n",
       "399227 2024-09-09 17:00:00+00:00   0.00    8741  Península  49.25   0.0   \n",
       "399255 2024-09-09 18:00:00+00:00   0.00    8741  Península   0.00   0.0   \n",
       "399283 2024-09-09 19:00:00+00:00   0.00    8741  Península   0.00   0.0   \n",
       "399311 2024-09-09 20:00:00+00:00   0.00    8741  Península  32.50  25.0   \n",
       "399339 2024-09-09 21:00:00+00:00  12.75    8741  Península   0.00  25.0   \n",
       "\n",
       "          540      545     666      667  ...     10386      10387    10394  \\\n",
       "3       25.00  20302.0  125.00     0.00  ...      0.00      0.000    0.000   \n",
       "31      16.75  19530.0    0.00   300.00  ...      0.00  -1540.000  140.000   \n",
       "59       0.00  18579.0    0.00     0.00  ...      0.00   -660.000   60.000   \n",
       "87      67.75  17274.0    0.00   674.00  ...      0.00      0.000    0.000   \n",
       "115      0.00  16760.0    0.00   848.00  ...      0.00  -2848.505  142.425   \n",
       "...       ...      ...     ...      ...  ...       ...        ...      ...   \n",
       "399227  53.50  28905.0   19.00  1454.75  ...   1102.28      0.000    0.000   \n",
       "399255   0.00  30486.0  100.00   100.00  ...      0.00  11212.500  162.500   \n",
       "399283   0.00  31445.0    0.00   225.00  ...      0.00      0.000    0.000   \n",
       "399311   0.00  29432.0  131.25   684.25  ...  12023.25      0.000    0.000   \n",
       "399339   0.00  26991.0  275.00     0.00  ...  24094.20      0.000    0.000   \n",
       "\n",
       "        10395  10396  10397     10398      10399  10400  10401  \n",
       "3         0.0    0.0    0.0      0.00      0.000    0.0    0.0  \n",
       "31        0.0    0.0    0.0      0.00  -1540.000    0.0    0.0  \n",
       "59        0.0    0.0    0.0      0.00   -660.000    0.0    0.0  \n",
       "87        0.0    0.0    0.0      0.00      0.000    0.0    0.0  \n",
       "115       0.0    0.0    0.0      0.00  -2848.505    0.0    0.0  \n",
       "...       ...    ...    ...       ...        ...    ...    ...  \n",
       "399227   22.5    0.0    0.0   1102.28      0.000    0.0    0.0  \n",
       "399255    0.0    0.0    0.0      0.00  11212.500    0.0    0.0  \n",
       "399283    0.0    0.0    0.0      0.00      0.000    0.0    0.0  \n",
       "399311  102.5    0.0    0.0  12023.25      0.000    0.0    0.0  \n",
       "399339  195.0    0.0    0.0  24094.20      0.000    0.0    0.0  \n",
       "\n",
       "[14831 rows x 61 columns]"
      ]
     },
     "execution_count": 89,
     "metadata": {},
     "output_type": "execute_result"
    }
   ],
   "source": [
    "df_00.fillna(0)"
   ]
  },
  {
   "cell_type": "code",
   "execution_count": 90,
   "metadata": {},
   "outputs": [],
   "source": [
    "df_00.to_csv(\"../data/by_hour_nan_0.csv\")"
   ]
  },
  {
   "cell_type": "markdown",
   "metadata": {},
   "source": [
    "Now... the magic!!! Trying to predict blabla"
   ]
  },
  {
   "cell_type": "code",
   "execution_count": 92,
   "metadata": {},
   "outputs": [
    {
     "name": "stderr",
     "output_type": "stream",
     "text": [
      "2024-09-10 16:56:11.424650: E external/local_xla/xla/stream_executor/cuda/cuda_fft.cc:485] Unable to register cuFFT factory: Attempting to register factory for plugin cuFFT when one has already been registered\n",
      "2024-09-10 16:56:11.435287: E external/local_xla/xla/stream_executor/cuda/cuda_dnn.cc:8454] Unable to register cuDNN factory: Attempting to register factory for plugin cuDNN when one has already been registered\n",
      "2024-09-10 16:56:11.437920: E external/local_xla/xla/stream_executor/cuda/cuda_blas.cc:1452] Unable to register cuBLAS factory: Attempting to register factory for plugin cuBLAS when one has already been registered\n",
      "2024-09-10 16:56:11.448002: I tensorflow/core/platform/cpu_feature_guard.cc:210] This TensorFlow binary is optimized to use available CPU instructions in performance-critical operations.\n",
      "To enable the following instructions: AVX2 FMA, in other operations, rebuild TensorFlow with the appropriate compiler flags.\n",
      "2024-09-10 16:56:12.145079: W tensorflow/compiler/tf2tensorrt/utils/py_utils.cc:38] TF-TRT Warning: Could not find TensorRT\n"
     ]
    }
   ],
   "source": [
    "from sklearn.preprocessing import MinMaxScaler\n",
    "from sklearn.model_selection import train_test_split\n",
    "from tensorflow.keras.models import Sequential\n",
    "from tensorflow.keras.layers import LSTM, Dense"
   ]
  },
  {
   "cell_type": "code",
   "execution_count": 93,
   "metadata": {},
   "outputs": [
    {
     "ename": "KeyError",
     "evalue": "\"None of ['datetime'] are in the columns\"",
     "output_type": "error",
     "traceback": [
      "\u001b[0;31m---------------------------------------------------------------------------\u001b[0m",
      "\u001b[0;31mKeyError\u001b[0m                                  Traceback (most recent call last)",
      "\u001b[0;32m/tmp/ipykernel_6323/3670944136.py\u001b[0m in \u001b[0;36m?\u001b[0;34m()\u001b[0m\n\u001b[0;32m----> 1\u001b[0;31m \u001b[0mdf_00\u001b[0m\u001b[0;34m.\u001b[0m\u001b[0mset_index\u001b[0m\u001b[0;34m(\u001b[0m\u001b[0;34m'datetime'\u001b[0m\u001b[0;34m,\u001b[0m\u001b[0minplace\u001b[0m\u001b[0;34m=\u001b[0m\u001b[0;32mTrue\u001b[0m\u001b[0;34m)\u001b[0m\u001b[0;34m.\u001b[0m\u001b[0mdrop\u001b[0m\u001b[0;34m(\u001b[0m\u001b[0mcolumns\u001b[0m\u001b[0;34m=\u001b[0m\u001b[0;34m[\u001b[0m\u001b[0;34m\"geo_id\"\u001b[0m\u001b[0;34m,\u001b[0m\u001b[0;34m\"geo_name\"\u001b[0m\u001b[0;34m]\u001b[0m\u001b[0;34m)\u001b[0m\u001b[0;34m\u001b[0m\u001b[0;34m\u001b[0m\u001b[0m\n\u001b[0m",
      "\u001b[0;32m~/.venvs/energy/lib/python3.12/site-packages/pandas/core/frame.py\u001b[0m in \u001b[0;36m?\u001b[0;34m(self, keys, drop, append, inplace, verify_integrity)\u001b[0m\n\u001b[1;32m   6118\u001b[0m                     \u001b[0;32mif\u001b[0m \u001b[0;32mnot\u001b[0m \u001b[0mfound\u001b[0m\u001b[0;34m:\u001b[0m\u001b[0;34m\u001b[0m\u001b[0;34m\u001b[0m\u001b[0m\n\u001b[1;32m   6119\u001b[0m                         \u001b[0mmissing\u001b[0m\u001b[0;34m.\u001b[0m\u001b[0mappend\u001b[0m\u001b[0;34m(\u001b[0m\u001b[0mcol\u001b[0m\u001b[0;34m)\u001b[0m\u001b[0;34m\u001b[0m\u001b[0;34m\u001b[0m\u001b[0m\n\u001b[1;32m   6120\u001b[0m \u001b[0;34m\u001b[0m\u001b[0m\n\u001b[1;32m   6121\u001b[0m         \u001b[0;32mif\u001b[0m \u001b[0mmissing\u001b[0m\u001b[0;34m:\u001b[0m\u001b[0;34m\u001b[0m\u001b[0;34m\u001b[0m\u001b[0m\n\u001b[0;32m-> 6122\u001b[0;31m             \u001b[0;32mraise\u001b[0m \u001b[0mKeyError\u001b[0m\u001b[0;34m(\u001b[0m\u001b[0;34mf\"\u001b[0m\u001b[0;34mNone of \u001b[0m\u001b[0;34m{\u001b[0m\u001b[0mmissing\u001b[0m\u001b[0;34m}\u001b[0m\u001b[0;34m are in the columns\u001b[0m\u001b[0;34m\"\u001b[0m\u001b[0;34m)\u001b[0m\u001b[0;34m\u001b[0m\u001b[0;34m\u001b[0m\u001b[0m\n\u001b[0m\u001b[1;32m   6123\u001b[0m \u001b[0;34m\u001b[0m\u001b[0m\n\u001b[1;32m   6124\u001b[0m         \u001b[0;32mif\u001b[0m \u001b[0minplace\u001b[0m\u001b[0;34m:\u001b[0m\u001b[0;34m\u001b[0m\u001b[0;34m\u001b[0m\u001b[0m\n\u001b[1;32m   6125\u001b[0m             \u001b[0mframe\u001b[0m \u001b[0;34m=\u001b[0m \u001b[0mself\u001b[0m\u001b[0;34m\u001b[0m\u001b[0;34m\u001b[0m\u001b[0m\n",
      "\u001b[0;31mKeyError\u001b[0m: \"None of ['datetime'] are in the columns\""
     ]
    }
   ],
   "source": [
    "df_00.set_index('datetime',inplace=True)"
   ]
  },
  {
   "cell_type": "code",
   "execution_count": 97,
   "metadata": {},
   "outputs": [],
   "source": [
    "df_nn = df_00.drop(columns=[\"geo_id\",\"geo_name\"])"
   ]
  },
  {
   "cell_type": "code",
   "execution_count": 99,
   "metadata": {},
   "outputs": [
    {
     "name": "stderr",
     "output_type": "stream",
     "text": [
      "/tmp/ipykernel_6323/447902394.py:1: FutureWarning: Downcasting object dtype arrays on .fillna, .ffill, .bfill is deprecated and will change in a future version. Call result.infer_objects(copy=False) instead. To opt-in to the future behavior, set `pd.set_option('future.no_silent_downcasting', True)`\n",
      "  df_nn = df_nn.fillna(0)\n"
     ]
    }
   ],
   "source": [
    "df_nn = df_nn.fillna(0)"
   ]
  },
  {
   "cell_type": "code",
   "execution_count": 104,
   "metadata": {},
   "outputs": [],
   "source": [
    "scaler = MinMaxScaler()\n",
    "scaled_features = scaler.fit_transform(df_nn[:])"
   ]
  },
  {
   "cell_type": "code",
   "execution_count": 108,
   "metadata": {},
   "outputs": [
    {
     "data": {
      "text/plain": [
       "(14831, 58)"
      ]
     },
     "execution_count": 108,
     "metadata": {},
     "output_type": "execute_result"
    }
   ],
   "source": [
    "scaled_features.shape"
   ]
  },
  {
   "cell_type": "code",
   "execution_count": 110,
   "metadata": {},
   "outputs": [
    {
     "data": {
      "text/plain": [
       "(14831, 58)"
      ]
     },
     "execution_count": 110,
     "metadata": {},
     "output_type": "execute_result"
    }
   ],
   "source": [
    "df_nn.shape"
   ]
  },
  {
   "cell_type": "code",
   "execution_count": 111,
   "metadata": {},
   "outputs": [],
   "source": [
    "df_nn.loc[:] = scaled_features"
   ]
  },
  {
   "cell_type": "code",
   "execution_count": 114,
   "metadata": {},
   "outputs": [],
   "source": [
    "def create_sequences(df, sequence_length):\n",
    "    X, y = [], []\n",
    "    for i in range(len(df) - sequence_length):\n",
    "        X.append(df.iloc[i:i+sequence_length])\n",
    "        y.append(df.iloc[i+sequence_length])\n",
    "    return np.array(X), np.array(y)"
   ]
  },
  {
   "cell_type": "code",
   "execution_count": 119,
   "metadata": {},
   "outputs": [],
   "source": [
    "sequence_length = 24\n",
    "X, y = create_sequences(df_nn, sequence_length)"
   ]
  },
  {
   "cell_type": "code",
   "execution_count": 123,
   "metadata": {},
   "outputs": [],
   "source": [
    "X_train, X_test, y_train, y_test = train_test_split(X, y, test_size=0.2, shuffle=False)"
   ]
  },
  {
   "cell_type": "code",
   "execution_count": 124,
   "metadata": {},
   "outputs": [
    {
     "name": "stderr",
     "output_type": "stream",
     "text": [
      "2024-09-10 17:04:24.316827: E external/local_xla/xla/stream_executor/cuda/cuda_driver.cc:266] failed call to cuInit: CUDA_ERROR_NO_DEVICE: no CUDA-capable device is detected\n",
      "/home/aner/.venvs/energy/lib/python3.12/site-packages/keras/src/layers/rnn/rnn.py:204: UserWarning: Do not pass an `input_shape`/`input_dim` argument to a layer. When using Sequential models, prefer using an `Input(shape)` object as the first layer in the model instead.\n",
      "  super().__init__(**kwargs)\n"
     ]
    },
    {
     "data": {
      "text/html": [
       "<pre style=\"white-space:pre;overflow-x:auto;line-height:normal;font-family:Menlo,'DejaVu Sans Mono',consolas,'Courier New',monospace\"><span style=\"font-weight: bold\">Model: \"sequential\"</span>\n",
       "</pre>\n"
      ],
      "text/plain": [
       "\u001b[1mModel: \"sequential\"\u001b[0m\n"
      ]
     },
     "metadata": {},
     "output_type": "display_data"
    },
    {
     "data": {
      "text/html": [
       "<pre style=\"white-space:pre;overflow-x:auto;line-height:normal;font-family:Menlo,'DejaVu Sans Mono',consolas,'Courier New',monospace\">┏━━━━━━━━━━━━━━━━━━━━━━━━━━━━━━━━━┳━━━━━━━━━━━━━━━━━━━━━━━━┳━━━━━━━━━━━━━━━┓\n",
       "┃<span style=\"font-weight: bold\"> Layer (type)                    </span>┃<span style=\"font-weight: bold\"> Output Shape           </span>┃<span style=\"font-weight: bold\">       Param # </span>┃\n",
       "┡━━━━━━━━━━━━━━━━━━━━━━━━━━━━━━━━━╇━━━━━━━━━━━━━━━━━━━━━━━━╇━━━━━━━━━━━━━━━┩\n",
       "│ lstm (<span style=\"color: #0087ff; text-decoration-color: #0087ff\">LSTM</span>)                     │ (<span style=\"color: #00d7ff; text-decoration-color: #00d7ff\">None</span>, <span style=\"color: #00af00; text-decoration-color: #00af00\">50</span>)             │        <span style=\"color: #00af00; text-decoration-color: #00af00\">21,800</span> │\n",
       "├─────────────────────────────────┼────────────────────────┼───────────────┤\n",
       "│ dense (<span style=\"color: #0087ff; text-decoration-color: #0087ff\">Dense</span>)                   │ (<span style=\"color: #00d7ff; text-decoration-color: #00d7ff\">None</span>, <span style=\"color: #00af00; text-decoration-color: #00af00\">1</span>)              │            <span style=\"color: #00af00; text-decoration-color: #00af00\">51</span> │\n",
       "└─────────────────────────────────┴────────────────────────┴───────────────┘\n",
       "</pre>\n"
      ],
      "text/plain": [
       "┏━━━━━━━━━━━━━━━━━━━━━━━━━━━━━━━━━┳━━━━━━━━━━━━━━━━━━━━━━━━┳━━━━━━━━━━━━━━━┓\n",
       "┃\u001b[1m \u001b[0m\u001b[1mLayer (type)                   \u001b[0m\u001b[1m \u001b[0m┃\u001b[1m \u001b[0m\u001b[1mOutput Shape          \u001b[0m\u001b[1m \u001b[0m┃\u001b[1m \u001b[0m\u001b[1m      Param #\u001b[0m\u001b[1m \u001b[0m┃\n",
       "┡━━━━━━━━━━━━━━━━━━━━━━━━━━━━━━━━━╇━━━━━━━━━━━━━━━━━━━━━━━━╇━━━━━━━━━━━━━━━┩\n",
       "│ lstm (\u001b[38;5;33mLSTM\u001b[0m)                     │ (\u001b[38;5;45mNone\u001b[0m, \u001b[38;5;34m50\u001b[0m)             │        \u001b[38;5;34m21,800\u001b[0m │\n",
       "├─────────────────────────────────┼────────────────────────┼───────────────┤\n",
       "│ dense (\u001b[38;5;33mDense\u001b[0m)                   │ (\u001b[38;5;45mNone\u001b[0m, \u001b[38;5;34m1\u001b[0m)              │            \u001b[38;5;34m51\u001b[0m │\n",
       "└─────────────────────────────────┴────────────────────────┴───────────────┘\n"
      ]
     },
     "metadata": {},
     "output_type": "display_data"
    },
    {
     "data": {
      "text/html": [
       "<pre style=\"white-space:pre;overflow-x:auto;line-height:normal;font-family:Menlo,'DejaVu Sans Mono',consolas,'Courier New',monospace\"><span style=\"font-weight: bold\"> Total params: </span><span style=\"color: #00af00; text-decoration-color: #00af00\">21,851</span> (85.36 KB)\n",
       "</pre>\n"
      ],
      "text/plain": [
       "\u001b[1m Total params: \u001b[0m\u001b[38;5;34m21,851\u001b[0m (85.36 KB)\n"
      ]
     },
     "metadata": {},
     "output_type": "display_data"
    },
    {
     "data": {
      "text/html": [
       "<pre style=\"white-space:pre;overflow-x:auto;line-height:normal;font-family:Menlo,'DejaVu Sans Mono',consolas,'Courier New',monospace\"><span style=\"font-weight: bold\"> Trainable params: </span><span style=\"color: #00af00; text-decoration-color: #00af00\">21,851</span> (85.36 KB)\n",
       "</pre>\n"
      ],
      "text/plain": [
       "\u001b[1m Trainable params: \u001b[0m\u001b[38;5;34m21,851\u001b[0m (85.36 KB)\n"
      ]
     },
     "metadata": {},
     "output_type": "display_data"
    },
    {
     "data": {
      "text/html": [
       "<pre style=\"white-space:pre;overflow-x:auto;line-height:normal;font-family:Menlo,'DejaVu Sans Mono',consolas,'Courier New',monospace\"><span style=\"font-weight: bold\"> Non-trainable params: </span><span style=\"color: #00af00; text-decoration-color: #00af00\">0</span> (0.00 B)\n",
       "</pre>\n"
      ],
      "text/plain": [
       "\u001b[1m Non-trainable params: \u001b[0m\u001b[38;5;34m0\u001b[0m (0.00 B)\n"
      ]
     },
     "metadata": {},
     "output_type": "display_data"
    }
   ],
   "source": [
    "# Define the model\n",
    "model = Sequential([\n",
    "    LSTM(50, activation='relu', input_shape=(sequence_length, X.shape[2])),\n",
    "    Dense(y.shape)\n",
    "])\n",
    "\n",
    "model.compile(optimizer='adam', loss='mse')\n",
    "\n",
    "# Summary of the model\n",
    "model.summary()\n"
   ]
  }
 ],
 "metadata": {
  "kernelspec": {
   "display_name": "energy",
   "language": "python",
   "name": "python3"
  },
  "language_info": {
   "codemirror_mode": {
    "name": "ipython",
    "version": 3
   },
   "file_extension": ".py",
   "mimetype": "text/x-python",
   "name": "python",
   "nbconvert_exporter": "python",
   "pygments_lexer": "ipython3",
   "version": "3.12.3"
  }
 },
 "nbformat": 4,
 "nbformat_minor": 2
}
